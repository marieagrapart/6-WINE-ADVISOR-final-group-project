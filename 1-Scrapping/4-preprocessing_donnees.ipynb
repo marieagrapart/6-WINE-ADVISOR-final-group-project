{
 "cells": [
  {
   "cell_type": "code",
   "execution_count": 6,
   "metadata": {},
   "outputs": [],
   "source": [
    "import pandas as pd"
   ]
  },
  {
   "attachments": {},
   "cell_type": "markdown",
   "metadata": {},
   "source": [
    "## preprocessing du Vin"
   ]
  },
  {
   "cell_type": "code",
   "execution_count": 7,
   "metadata": {},
   "outputs": [],
   "source": [
    "vin = pd.read_json(\"vins.json\")\n",
    "vin = vin.apply(pd.Series.explode)\n",
    "vinfg = pd.read_csv(\"vinfg.csv\",sep=\";\")\n"
   ]
  },
  {
   "cell_type": "code",
   "execution_count": 8,
   "metadata": {},
   "outputs": [],
   "source": [
    "vin[\"vin\"] = vin[\"vin\"].apply(lambda x : x.replace(\"\\n\", \"\"))\n",
    "vin[\"vin\"] = vin[\"vin\"].apply(lambda x : x.replace(\"\\t\", \"\"))\n",
    "vin[\"vin\"] = vin[\"vin\"].apply(lambda x : x.replace(\"\\r\", \"\"))\n",
    "vin[\"region\"] = vin[\"region\"].apply(lambda x : x.replace(\"\\n\", \"\"))\n",
    "vin[\"region\"] = vin[\"region\"].apply(lambda x : x.replace(\"\\t\", \"\"))\n",
    "vin[\"region\"] = vin[\"region\"].apply(lambda x : x.replace(\"\\r\", \"\"))\n",
    "vin[\"region\"] = vin[\"region\"].apply(lambda x : x.replace(\" \", \"\"))\n",
    "vin[\"type\"] = vin[\"type\"].apply(lambda x : x.replace(\"images/verrevin\", \"\"))\n",
    "vin[\"type\"] = vin[\"type\"].apply(lambda x : x.replace(\".jpg\", \"\"))\n",
    "\n",
    "vin = vin[(vin['target'] != \"Salades\") & (vin['target'] != \"Soupes\")]\n",
    "\n",
    "vin = pd.concat([vin, vinfg],ignore_index=True)\n",
    "\n",
    "vin.to_csv(\"vins.csv\", index=False)\n"
   ]
  },
  {
   "cell_type": "code",
   "execution_count": 9,
   "metadata": {},
   "outputs": [
    {
     "data": {
      "text/plain": [
       "Légumes             50\n",
       "Desserts            49\n",
       "Fruits de mer       48\n",
       "Viandes blanches    48\n",
       "Poissons            48\n",
       "Viandes rouges      48\n",
       "Fromages            48\n",
       "Charcuteries        48\n",
       "Apéritif            48\n",
       "Abats               48\n",
       "Pâtes               46\n",
       "Gibiers             40\n",
       "Lapin               40\n",
       "Oeuf                40\n",
       "Entrée              40\n",
       "Foie gras           10\n",
       "œufs                 7\n",
       "Name: target, dtype: int64"
      ]
     },
     "execution_count": 9,
     "metadata": {},
     "output_type": "execute_result"
    }
   ],
   "source": [
    "vin['target'].value_counts()"
   ]
  },
  {
   "attachments": {},
   "cell_type": "markdown",
   "metadata": {},
   "source": [
    "## preprocessing du Plat"
   ]
  },
  {
   "cell_type": "code",
   "execution_count": 10,
   "metadata": {},
   "outputs": [],
   "source": [
    "plat = pd.read_json(\"plats.json\")\n",
    "plat = plat.apply(pd.Series.explode)"
   ]
  },
  {
   "cell_type": "code",
   "execution_count": 11,
   "metadata": {},
   "outputs": [],
   "source": [
    "plat.dropna(inplace=True)\n",
    "plat[\"target\"] = plat[\"target\"].apply(lambda x : x.replace(\"\\n\", \"\"))\n",
    "plat[\"target\"] = plat[\"target\"].apply(lambda x : x.replace(\"\\t\", \"\"))\n",
    "plat[\"target\"] = plat[\"target\"].apply(lambda x : x.replace(\"\\r\", \"\"))\n",
    "plat[\"target\"] = plat[\"target\"].apply(lambda x : x.replace(\"Recettes\", \"\"))\n",
    "plat[\"target\"] = plat[\"target\"].apply(lambda x : x.replace(\" \", \"\"))"
   ]
  },
  {
   "cell_type": "code",
   "execution_count": 12,
   "metadata": {},
   "outputs": [],
   "source": [
    "plat.to_csv(\"plats.csv\", index=False)"
   ]
  },
  {
   "attachments": {},
   "cell_type": "markdown",
   "metadata": {},
   "source": [
    "## processing de la Recette"
   ]
  },
  {
   "cell_type": "code",
   "execution_count": 13,
   "metadata": {},
   "outputs": [],
   "source": [
    "recette = pd.read_json(\"recettes.json\")"
   ]
  },
  {
   "cell_type": "code",
   "execution_count": 14,
   "metadata": {},
   "outputs": [],
   "source": [
    "recette[\"recette\"] = recette[\"recette\"][0][0]\n",
    "recette[\"recette\"] = recette[\"recette\"].apply(lambda x : x.replace('<meta property=\"og:description\" content=\"',\"\"))\n",
    "recette[\"recette\"] = recette[\"recette\"].apply(lambda x : x.replace('\">',\"\"))"
   ]
  },
  {
   "attachments": {},
   "cell_type": "markdown",
   "metadata": {},
   "source": [
    "## Creation de la data final et preprocessing"
   ]
  },
  {
   "cell_type": "code",
   "execution_count": 15,
   "metadata": {},
   "outputs": [],
   "source": [
    "data_final = plat.drop(columns=[\"url\"])\n",
    "data_final[\"recettes\"] = recette[\"recette\"]"
   ]
  },
  {
   "cell_type": "code",
   "execution_count": 16,
   "metadata": {},
   "outputs": [
    {
     "data": {
      "text/plain": [
       "tarte                    3156\n",
       "pâtes,riz,semoule        2970\n",
       "viande                   2970\n",
       "fruitsdemer              2411\n",
       "soupe                    2009\n",
       "apéritifdînatoire        1239\n",
       "dessertglacé             1036\n",
       "poisson                  1003\n",
       "bouchéeouamuse-bouche     844\n",
       "abats                     793\n",
       "platvégétarien            694\n",
       "crème                     577\n",
       "terrine,pâté              529\n",
       "œufs                      392\n",
       "autrescrudités            125\n",
       "andouilette                48\n",
       "Name: target, dtype: int64"
      ]
     },
     "execution_count": 16,
     "metadata": {},
     "output_type": "execute_result"
    }
   ],
   "source": [
    "data_final[\"plat\"] = data_final[\"plat\"].apply(lambda x : x.lower())\n",
    "data_final[\"target\"].value_counts()"
   ]
  },
  {
   "cell_type": "code",
   "execution_count": 17,
   "metadata": {},
   "outputs": [],
   "source": [
    "# mask pour modif catégorie\n",
    "newdf = data_final[(data_final['target'] == \"viande\")]"
   ]
  },
  {
   "cell_type": "code",
   "execution_count": 18,
   "metadata": {},
   "outputs": [
    {
     "name": "stderr",
     "output_type": "stream",
     "text": [
      "/var/folders/38/qp_mmpqs5_5fc3fgl0jc4_v40000gn/T/ipykernel_78652/2454046037.py:1: SettingWithCopyWarning: \n",
      "A value is trying to be set on a copy of a slice from a DataFrame.\n",
      "Try using .loc[row_indexer,col_indexer] = value instead\n",
      "\n",
      "See the caveats in the documentation: https://pandas.pydata.org/pandas-docs/stable/user_guide/indexing.html#returning-a-view-versus-a-copy\n",
      "  newdf[\"target\"] = newdf[\"plat\"].apply(lambda x : \"Viandes blanches\" if \"poulet\" in x\n"
     ]
    }
   ],
   "source": [
    "newdf[\"target\"] = newdf[\"plat\"].apply(lambda x : \"Viandes blanches\" if \"poulet\" in x \n",
    "                                                        else \"Viandes rouges\" if \"boeuf\" in x \n",
    "                                                        else \"Viandes blanches\" if \"lapin\" in x\n",
    "                                                        else \"Viandes blanches\" if \"porc\" in x\n",
    "                                                        else \"Viandes blanches\" if \"dinde\" in x\n",
    "                                                        else \"Viandes rouges\" if \"cheval\" in x \n",
    "                                                        else \"Viandes rouges\" if \"agneau\" in x \n",
    "                                                        else \"Viandes rouges\" if \"boeuf\" in x \n",
    "                                                        else \"Viandes rouges\" if \"chèvre\" in x \n",
    "                                                        else \"Viandes rouges\" if \"veau\" in x \n",
    "                                                        else \"Abats\" if \"boudin\" in x\n",
    "                                                        else \"Viandes rouges\" if \"bœuf\" in x\n",
    "                                                        else \"Viandes blanches\" if \"canard\" in x\n",
    "                                                        else \"Viandes blanches\" if \"cannette\" in x\n",
    "                                                        else \"Viandes blanches\" if \"chapon\" in x\n",
    "                                                        else \"Viandes blanches\" if \"porc\" in x\n",
    "                                                        else \"Viandes blanches\" if \"coq\" in x\n",
    "                                                        else \"Viandes blanches\" if \"porc\" in x\n",
    "                                                        else \"Viandes blanches\" if \"porc\" in x\n",
    "                                                        else \"Charcuteries\" if \"saucisses\" in x\n",
    "                                                        else \"Charcuteries\" if \"saucisse\" in x\n",
    "                                                        else \"Charcuteries\" if \"dog\" in x\n",
    "                                                        else \"Charcuteries\" if \"knackis\" in x\n",
    "                                                        else \"Charcuteries\" if \"knacki\" in x\n",
    "                                                        else \"Viandes rouges\" if \"kebab\" in x\n",
    "                                                        else \"Viandes rouges\" if \"rosbeef\" in x\n",
    "                                                        else \"Viandes blanches\" if \"escalopes\" in x\n",
    "                                                        else \"Viandes blanches\" if \"poule\" in x\n",
    "                                                        else \"Viandes rouges\" if \"sanglier\" in x\n",
    "                                                        else \"Viandes rouges\" if \"cerf\" in x\n",
    "                                                        else \"Viandes rouges\" if \"faisan\" in x\n",
    "                                                        else \"Viandes rouges\" if \"pintade\" in x\n",
    "                                                        else \"Viandes blanches\" if \"filet mignon\" in x\n",
    "                                                        else \"Viandes rouges\" if \"tartare\" in x \n",
    "                                                        else \"Viandes rouges\" if \"steak\" in x \n",
    "                                                        else \"Charcuteries\" if \"chorizo\" in x \n",
    "                                                        else \"Viandes rouges\" if \"daube\" in x \n",
    "                                                        else \"Abats\" if \"andouillette\" in x \n",
    "                                                        else \"Viandes rouges\" if \"burger\" in x \n",
    "                                                        else \"Viandes rouges\" if \"collier\" in x \n",
    "                                                        else \"Viandes rouges\" if \"basses côtes\" in x \n",
    "                                                        else \"Viandes rouges\" if \"faux filet \" in x \n",
    "                                                        else \"Viandes rouges\" if \"filet de bœuf\" in x \n",
    "                                                        else \"Viandes rouges\" if \"fumsteck\" in x \n",
    "                                                        else \"Viandes rouges\" if \"queue de bœuf\" in x \n",
    "                                                        else \"Viandes rouges\" if \"bavette\" in x \n",
    "                                                        else \"Viandes rouges\" if \"paleron\" in x \n",
    "                                                        else \"Viandes rouges\" if \"tournedos\" in x \n",
    "                                                        else \"Viandes rouges\" if \"piece du boucher\" in x\n",
    "                                                        else \"Viandes rouges\" if \"rôti\" in x\n",
    "                                                        else \"Viandes rouges\" if \"boulettes\" in x\n",
    "                                                        else \"Abats\" if \"tripes\" in x\n",
    "                                                        else \"Viandes blanches\" if \"chicken\" in x  \n",
    "                                                        else \"Viandes rouges\" if \"chevreuil\" in x\n",
    "                                                        else \"Viandes blanches\" if \"grenouille\" in x\n",
    "                                                        else \"Viandes rouges\" if \"kefta\" in x\n",
    "                                                        else \"Foie gras\" if \"foie gras\" in x\n",
    "                                                        else \"Poissons\" if \"poisson\" in x\n",
    "                                                        else \"Viandes rouges\" if \"gigot\" in x\n",
    "                                                        else \"Viandes blanches\" if \"magret\" in x\n",
    "                                                        else \"Poissons\" if \"lotte\" in x\n",
    "                                                        else \"Poissons\" if \"thon\" in x\n",
    "                                                        else \"Charcuteries\" if \"petit salé\" in x\n",
    "                                                        else \"Poissons\" if \"saumon\" in x\n",
    "                                                        else \"Viandes blanches\" if \"volaille\" in x\n",
    "                                                        else \"Poissons\" if \"d'espadon\" in x\n",
    "                                                        else \"Viandes blanches\" if \"cailles\" in x\n",
    "                                                        else \"Charcuteries\" if \"merguez\" in x\n",
    "                                                        else \"Viandes blanches\" if \"tenders\" in x  \n",
    "                                                        else \"Viandes blanches\" if \"oie\" in x\n",
    "                                                        else \"Viandes rouges\" if \"steack\" in x\n",
    "                                                        else \"Viandes rouges\" if \"hachée\" in x\n",
    "                                                        else \"Viandes blanches\" if \"osso buco\" in x\n",
    "                                                        else \"Viandes blanches\" if \"osso bucco\" in x\n",
    "                                                        else \"Viandes blanches\" if \"paupiettes\" in x\n",
    "                                                        else \"Viandes blanches\" if \"bourguignon\" in x\n",
    "                                                        else \"NAN\") "
   ]
  },
  {
   "cell_type": "code",
   "execution_count": 19,
   "metadata": {},
   "outputs": [
    {
     "name": "stderr",
     "output_type": "stream",
     "text": [
      "/var/folders/38/qp_mmpqs5_5fc3fgl0jc4_v40000gn/T/ipykernel_78652/2288055356.py:3: FutureWarning: The frame.append method is deprecated and will be removed from pandas in a future version. Use pandas.concat instead.\n",
      "  data_final = data_final.append(newdf)\n"
     ]
    }
   ],
   "source": [
    "data_final = data_final[data_final[\"target\"] != \"viande\"]\n",
    "newdf = newdf[newdf[\"target\"] != \"NAN\"]\n",
    "data_final = data_final.append(newdf)"
   ]
  },
  {
   "cell_type": "code",
   "execution_count": 20,
   "metadata": {},
   "outputs": [],
   "source": [
    "data_final[\"target\"] = data_final[\"target\"].apply(lambda x : \"Légumes\" if \"soupe\" in x \n",
    "                                                        else \"Fruits de mer\" if \"fruitsdemer\" in x \n",
    "                                                        else \"Pâtes\" if \"pâtes,riz,semoule\" in x\n",
    "                                                        else \"Desserts\" if \"gâteau\" in x\n",
    "                                                        else \"Apéritif\" if \"apéritifdînatoire\" in x\n",
    "                                                        else \"Poissons\" if \"poisson\" in x\n",
    "                                                        else \"Apéritif\" if \"bouchéeouamuse-bouche\" in x\n",
    "                                                        else \"Abats\" if \"abats\" in x\n",
    "                                                        else \"Desserts\" if \"dessertauchocolat\" in x\n",
    "                                                        else \"Desserts\" if \"crème\" in x\n",
    "                                                        else \"Desserts\" if \"dessertglacé\" in x\n",
    "                                                        else \"Viandes blanches\" if \"Viandes blanches\" in x\n",
    "                                                        else \"Légumes\" if \"platvégétarien\" in x\n",
    "                                                        else \"Viandes rouges\" if \"Viandes rouges\" in x\n",
    "                                                        else \"Poissons\" if \"poisson\" in x\n",
    "                                                        else \"Foie gras\" if \"Foie gras\" in x\n",
    "                                                        else \"Gibiers\" if \"Gibiers\" in x\n",
    "                                                        else \"Lapin\" if \"Lapin\" in x\n",
    "                                                        else \"Desserts\" if \"tarte\" in x\n",
    "                                                        else \"Abats\" if \"andouilette\" in x\n",
    "                                                        else \"Charcuteries\" if \"terrine,pâté\" in x\n",
    "                                                        else \"Légumes\" if \"autrescrudités\" in x\n",
    "                                                        else x)"
   ]
  },
  {
   "cell_type": "code",
   "execution_count": 21,
   "metadata": {},
   "outputs": [],
   "source": [
    "mask = data_final['target'] != 'entréechaude'\n",
    "data_final = data_final[mask]"
   ]
  },
  {
   "attachments": {},
   "cell_type": "markdown",
   "metadata": {},
   "source": [
    "## Rajout de données"
   ]
  },
  {
   "cell_type": "code",
   "execution_count": 22,
   "metadata": {},
   "outputs": [
    {
     "name": "stderr",
     "output_type": "stream",
     "text": [
      "/var/folders/38/qp_mmpqs5_5fc3fgl0jc4_v40000gn/T/ipykernel_78652/461937967.py:3: FutureWarning: The frame.append method is deprecated and will be removed from pandas in a future version. Use pandas.concat instead.\n",
      "  data_final = data_final.append(charcuterie)\n"
     ]
    }
   ],
   "source": [
    "charcuterie = pd.read_csv(\"charcuterie.csv\", sep=\";\", header=None, names=[\"target\", \"plat\"])\n",
    "charcuterie[\"recettes\"] = charcuterie[\"plat\"]\n",
    "data_final = data_final.append(charcuterie)\n"
   ]
  },
  {
   "cell_type": "code",
   "execution_count": 23,
   "metadata": {},
   "outputs": [],
   "source": [
    "data_final[\"target\"] = data_final[\"target\"].apply(lambda x : \"Charcuteries\" if \"Charcuterie\" in x else x)"
   ]
  },
  {
   "cell_type": "code",
   "execution_count": 24,
   "metadata": {},
   "outputs": [],
   "source": [
    "data_final[\"plat_recette\"] = (data_final[\"plat\"] + \" \" + data_final[\"recettes\"])"
   ]
  },
  {
   "cell_type": "code",
   "execution_count": 25,
   "metadata": {},
   "outputs": [],
   "source": [
    "data_final.to_csv(\"data_final.csv\", index=False)"
   ]
  },
  {
   "cell_type": "code",
   "execution_count": 26,
   "metadata": {},
   "outputs": [
    {
     "data": {
      "text/plain": [
       "array(['Desserts', 'Légumes', 'Abats', 'Pâtes', 'Poissons', 'œufs',\n",
       "       'Fruits de mer', 'Charcuteries', 'Apéritif', 'Viandes rouges',\n",
       "       'Viandes blanches', 'Foie gras', 'Fromages'], dtype=object)"
      ]
     },
     "execution_count": 26,
     "metadata": {},
     "output_type": "execute_result"
    }
   ],
   "source": [
    "data_final['target'].unique()\n"
   ]
  }
 ],
 "metadata": {
  "kernelspec": {
   "display_name": "base",
   "language": "python",
   "name": "python3"
  },
  "language_info": {
   "codemirror_mode": {
    "name": "ipython",
    "version": 3
   },
   "file_extension": ".py",
   "mimetype": "text/x-python",
   "name": "python",
   "nbconvert_exporter": "python",
   "pygments_lexer": "ipython3",
   "version": "3.9.12 (main, Apr  5 2022, 01:53:17) \n[Clang 12.0.0 ]"
  },
  "orig_nbformat": 4,
  "vscode": {
   "interpreter": {
    "hash": "a4d33f735b5bc1716c8fc72440308505f4263435be6abde8d6dd6675ac56206b"
   }
  }
 },
 "nbformat": 4,
 "nbformat_minor": 2
}
